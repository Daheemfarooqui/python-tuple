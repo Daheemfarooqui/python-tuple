{
 "cells": [
  {
   "cell_type": "markdown",
   "id": "0dd38c52-601f-4d70-8dac-a172b3235aa9",
   "metadata": {},
   "source": [
    "# Q1. What is a tuple in Python?"
   ]
  },
  {
   "cell_type": "markdown",
   "id": "bffdfdfc-d15c-4a83-90ed-4fc8925d6816",
   "metadata": {},
   "source": [
    "## Ans1\n",
    "* Tuples in Python are similar to lists but they cannot be changed. \n",
    "* This makes them useful in certain situations. \n",
    " * The immutability of tuples makes them ideal for certain tasks and scenarios."
   ]
  },
  {
   "cell_type": "markdown",
   "id": "383d36ca-7600-458f-9911-4c901deace18",
   "metadata": {},
   "source": [
    "# Q2. How do you create a tuple in Python?"
   ]
  },
  {
   "cell_type": "code",
   "execution_count": 18,
   "id": "723e5626-1e5f-4ac7-a191-e9fdcafe04bd",
   "metadata": {},
   "outputs": [
    {
     "name": "stdout",
     "output_type": "stream",
     "text": [
      "('Daheem', 'Farooqui', 'pwskills', 'sudh')\n"
     ]
    },
    {
     "data": {
      "text/plain": [
       "tuple"
      ]
     },
     "execution_count": 18,
     "metadata": {},
     "output_type": "execute_result"
    }
   ],
   "source": [
    "t = (\"Daheem\",\"Farooqui\",\"pwskills\",\"sudh\" )\n",
    "print(t)\n",
    "type (t)"
   ]
  },
  {
   "cell_type": "markdown",
   "id": "6cabc048-551f-4f04-8c9f-aa4039e9c34d",
   "metadata": {},
   "source": [
    "# Q3. What is the difference between a tuple and a list in Python?"
   ]
  },
  {
   "cell_type": "markdown",
   "id": "1101ebd6-4446-4de5-b440-a15970c3e3ab",
   "metadata": {},
   "source": [
    "* The key difference between tuples and lists is that while tuples are immutable objects \n",
    " * lists are mutable. This means tuples cannot be changed while lists can be modified.\n",
    " * Tuples are also more memory efficient than the lists."
   ]
  },
  {
   "cell_type": "markdown",
   "id": "160bb14a-ab93-4e0e-b915-a67d8c3af38b",
   "metadata": {},
   "source": [
    " # Q4. Can a tuple be changed in Python?"
   ]
  },
  {
   "cell_type": "markdown",
   "id": "84e6754a-10b1-4fcb-a13b-ee0e82ddf7e5",
   "metadata": {},
   "source": [
    "# Ans4\n",
    "* Once a tuple is created, you cannot change its values. Tuples are unchangeable"
   ]
  },
  {
   "cell_type": "code",
   "execution_count": 19,
   "id": "c288eba4-c7a2-4f88-b895-969e31941c33",
   "metadata": {},
   "outputs": [
    {
     "ename": "AttributeError",
     "evalue": "'tuple' object has no attribute 'append'",
     "output_type": "error",
     "traceback": [
      "\u001b[0;31m---------------------------------------------------------------------------\u001b[0m",
      "\u001b[0;31mAttributeError\u001b[0m                            Traceback (most recent call last)",
      "Cell \u001b[0;32mIn[19], line 2\u001b[0m\n\u001b[1;32m      1\u001b[0m t \u001b[38;5;241m=\u001b[39m (\u001b[38;5;241m1\u001b[39m,\u001b[38;5;241m2\u001b[39m,\u001b[38;5;241m3\u001b[39m,\u001b[38;5;241m4\u001b[39m,\u001b[38;5;241m5\u001b[39m)\n\u001b[0;32m----> 2\u001b[0m \u001b[43mt\u001b[49m\u001b[38;5;241;43m.\u001b[39;49m\u001b[43mappend\u001b[49m(\u001b[38;5;241m4\u001b[39m)\n\u001b[1;32m      3\u001b[0m \u001b[38;5;28mprint\u001b[39m(t)\n\u001b[1;32m      4\u001b[0m \u001b[38;5;66;03m# Since tuples are immutable, they do not have a built-in append() method\u001b[39;00m\n",
      "\u001b[0;31mAttributeError\u001b[0m: 'tuple' object has no attribute 'append'"
     ]
    }
   ],
   "source": [
    " t = (1,2,3,4,5)\n",
    "t.append(4)\n",
    "print(t)\n",
    "# Since tuples are immutable, they do not have a built-in append() method"
   ]
  },
  {
   "cell_type": "markdown",
   "id": "74d09931-da4e-412f-8220-b439009149a8",
   "metadata": {},
   "source": [
    "# Q5. How do you access elements in a tuple?"
   ]
  },
  {
   "cell_type": "markdown",
   "id": "07a43a27-bac4-4279-96ef-fc5fbf57c4fa",
   "metadata": {},
   "source": [
    "## Ans5\n"
   ]
  },
  {
   "cell_type": "code",
   "execution_count": 20,
   "id": "bf9df4b3-8f2a-4135-99ef-b5f3c8090121",
   "metadata": {},
   "outputs": [],
   "source": [
    "test = (\"Daheem\",\"farooqui\",\"pwskills\")"
   ]
  },
  {
   "cell_type": "code",
   "execution_count": 35,
   "id": "bcf77693-92a3-4604-be4b-f0a225eea19b",
   "metadata": {},
   "outputs": [
    {
     "name": "stdout",
     "output_type": "stream",
     "text": [
      "('Daheem', 'farooqui', 'pwskills')\n",
      "pwskills\n"
     ]
    }
   ],
   "source": [
    "print(test)\n",
    "print(test[2])"
   ]
  },
  {
   "cell_type": "code",
   "execution_count": null,
   "id": "9168b6ec-8d92-4114-8db5-7161b2966e2a",
   "metadata": {},
   "outputs": [],
   "source": []
  },
  {
   "cell_type": "code",
   "execution_count": 36,
   "id": "8da21f42-c474-430f-beba-1522261cd582",
   "metadata": {},
   "outputs": [
    {
     "name": "stdout",
     "output_type": "stream",
     "text": [
      "ironman\n",
      "spiderman\n",
      "thor\n"
     ]
    }
   ],
   "source": [
    "t= (\"ironman\", \"spiderman\", \"thor\")\n",
    "\n",
    "t = (batman, superman, wonderwoman)\n",
    "print(batman)\n",
    "print(superman)\n",
    "print(wonderwoman)"
   ]
  },
  {
   "cell_type": "code",
   "execution_count": null,
   "id": "0025b9e0-b6fb-40a9-a37b-9415e548416b",
   "metadata": {},
   "outputs": [],
   "source": []
  },
  {
   "cell_type": "code",
   "execution_count": null,
   "id": "4b735163-5a6c-4ebd-beac-34d95782f3b9",
   "metadata": {},
   "outputs": [],
   "source": []
  }
 ],
 "metadata": {
  "kernelspec": {
   "display_name": "Python 3 (ipykernel)",
   "language": "python",
   "name": "python3"
  },
  "language_info": {
   "codemirror_mode": {
    "name": "ipython",
    "version": 3
   },
   "file_extension": ".py",
   "mimetype": "text/x-python",
   "name": "python",
   "nbconvert_exporter": "python",
   "pygments_lexer": "ipython3",
   "version": "3.10.8"
  }
 },
 "nbformat": 4,
 "nbformat_minor": 5
}
